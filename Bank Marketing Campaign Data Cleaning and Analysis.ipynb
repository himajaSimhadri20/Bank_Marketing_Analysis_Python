{
 "cells": [
  {
   "cell_type": "code",
   "execution_count": null,
   "id": "3856a0c7-8b03-4a05-8a9f-8945806e425b",
   "metadata": {},
   "outputs": [],
   "source": [
    "#Importing the Pandas and numpy packages\n",
    "import pandas as pd\n",
    "import numpy as np\n",
    "import warnings\n",
    "warnings.filterwarnings('ignore')\n",
    "#Reading the bank_marketing csv file into the \n",
    "bank_df = pd.read_csv(\"bank_marketing.csv\")\n",
    "bank_df.head()"
   ]
  },
  {
   "cell_type": "code",
   "execution_count": null,
   "id": "b598b9c7-1606-4c5c-af8e-ef60a2d61c16",
   "metadata": {},
   "outputs": [],
   "source": [
    "#Splitting the data into three data frames 'client', 'campaign', 'economics'\n",
    "client = bank_df[[\"client_id\",\"age\",\"job\",\"marital\",\"education\",\"credit_default\",\"mortgage\",]]\n",
    "#client.head()"
   ]
  },
  {
   "cell_type": "code",
   "execution_count": null,
   "id": "c1fcdb83-79d6-4ed7-b900-79ac55ca9070",
   "metadata": {
    "scrolled": true
   },
   "outputs": [],
   "source": [
    "#Change \"job\" . to _\n",
    "client[\"job\"] = client[\"job\"].str.replace('.','_')\n",
    "#client.head()\n"
   ]
  },
  {
   "cell_type": "code",
   "execution_count": null,
   "id": "170cc229-70bf-4914-bb1f-118636ce6f78",
   "metadata": {},
   "outputs": [],
   "source": [
    "#Change \"education\" . to _ AND unkonwn to np.Nan\n",
    "client[\"education\"] = client[\"education\"].str.replace('.','_')\n"
   ]
  },
  {
   "cell_type": "code",
   "execution_count": null,
   "id": "779fbbab-eca3-415f-b4fc-4c3ea23f8109",
   "metadata": {},
   "outputs": [],
   "source": [
    "#Replaced the \"unknown\" to \"NaN\" \n",
    "client[\"education\"] = client[\"education\"].replace(to_replace = 'unknown', value=np.NaN)"
   ]
  },
  {
   "cell_type": "code",
   "execution_count": null,
   "id": "68fa6fce-f0ad-4445-91fa-cbb1281ffbad",
   "metadata": {},
   "outputs": [],
   "source": [
    "client['credit_default'] = bank_df['credit_default']"
   ]
  },
  {
   "cell_type": "code",
   "execution_count": null,
   "id": "cf0aba5f-38ce-40df-81e5-cdb187a568da",
   "metadata": {},
   "outputs": [],
   "source": [
    "client['credit_default'] = client['credit_default'].map({'yes':1,'no':0,'unknown':0})"
   ]
  },
  {
   "cell_type": "code",
   "execution_count": null,
   "id": "7ff4f2b6-6502-4d05-b080-4695c49c3269",
   "metadata": {},
   "outputs": [],
   "source": [
    "client['credit_default'] = client['credit_default'].astype(bool)"
   ]
  },
  {
   "cell_type": "code",
   "execution_count": null,
   "id": "6c86a18e-04ee-4616-837f-87a83ef92d97",
   "metadata": {},
   "outputs": [],
   "source": [
    "client['mortgage'] = client['mortgage'].replace(to_replace = 'unknown', value = 'no')\n",
    "client['mortgage'] = client['mortgage'].map({'yes': 1,'no': 0})\n",
    "client['mortgage'].dtype"
   ]
  },
  {
   "cell_type": "code",
   "execution_count": null,
   "id": "52815519-9cd9-4fe4-b662-13bcaeb06b0e",
   "metadata": {},
   "outputs": [],
   "source": [
    "client['mortgage'] = client['mortgage'].astype(bool)\n",
    "client['mortgage'].dtype"
   ]
  },
  {
   "cell_type": "code",
   "execution_count": null,
   "id": "9a415aa5-36c1-47b0-9ecb-059efec34b44",
   "metadata": {},
   "outputs": [],
   "source": [
    "client.head()"
   ]
  },
  {
   "cell_type": "code",
   "execution_count": null,
   "id": "820fb34e-d6c8-4853-ad51-ee12aec0af39",
   "metadata": {},
   "outputs": [],
   "source": [
    "campaign = bank_df[[\"client_id\",\"number_contacts\",\"contact_duration\",\"previous_campaign_contacts\",\"previous_outcome\",\"campaign_outcome\"]]\n",
    "campaign.head()"
   ]
  },
  {
   "cell_type": "code",
   "execution_count": null,
   "id": "df19d05f-5149-45e0-8f9e-cd3746b2cc71",
   "metadata": {},
   "outputs": [],
   "source": [
    "#creating the \"last_contact_date\" column in camapign dataframe (yyyy-mm-dd)\n",
    "bank_df[\"year\"] = \"2022\" #Adding new column into bank_df dataframe \"year\" = \"2022\"\n",
    "campaign[\"last_contact_date\"] = bank_df[\"year\"] + \"-\" + bank_df[\"month\"] + \"-\" + bank_df[\"day\"].astype(str) #--converted the day from int to string\n",
    "campaign.head()"
   ]
  },
  {
   "cell_type": "code",
   "execution_count": null,
   "id": "02c63985-7748-4620-8971-dc7bc3d119aa",
   "metadata": {},
   "outputs": [],
   "source": [
    "#converting the last_contact_date into datetime format\n",
    "campaign[\"last_contact_date\"] = pd.to_datetime(campaign[\"last_contact_date\"], format=\"%Y-%b-%d\")\n",
    "campaign.head()"
   ]
  },
  {
   "cell_type": "code",
   "execution_count": null,
   "id": "e8b63b32-b822-4b10-b78e-41fd3620615f",
   "metadata": {},
   "outputs": [],
   "source": [
    "#print(campaign['previous_outcome'])\n",
    "campaign[\"previous_outcome\"] = campaign[\"previous_outcome\"].map({\"success\": 1, \n",
    "                                                                 \"failure\": 0,\n",
    "                                                                 \"nonexistent\": 0})\n",
    "campaign[\"campaign_outcome\"] = campaign[\"campaign_outcome\"].map({\"yes\":1,\"no\":0,\"unknown\":0})\n",
    "campaign.head()"
   ]
  },
  {
   "cell_type": "code",
   "execution_count": null,
   "id": "d7cbb681-ab93-4a5b-824e-838d4b89a0f8",
   "metadata": {},
   "outputs": [],
   "source": [
    "campaign[\"previous_outcome\"]  = campaign[\"previous_outcome\"].astype(bool)"
   ]
  },
  {
   "cell_type": "code",
   "execution_count": null,
   "id": "d5d2e28c-04ed-492e-b993-015fa090cb39",
   "metadata": {},
   "outputs": [],
   "source": [
    "campaign[\"campaign_outcome\"] = campaign[\"campaign_outcome\"].astype(bool)"
   ]
  },
  {
   "cell_type": "code",
   "execution_count": null,
   "id": "0b8cca74-d28b-4393-95a2-ac48c5dfbe66",
   "metadata": {},
   "outputs": [],
   "source": [
    "#campaign.head()"
   ]
  },
  {
   "cell_type": "code",
   "execution_count": null,
   "id": "58ac931c-2ad9-40d2-9a7d-286c25124cdc",
   "metadata": {},
   "outputs": [],
   "source": [
    "economics = bank_df[[\"client_id\",\"cons_price_idx\",\"euribor_three_months\"]]\n",
    "#economics.head()"
   ]
  },
  {
   "cell_type": "code",
   "execution_count": null,
   "id": "f5f64696-0c1b-465b-92f8-603a65e8b105",
   "metadata": {},
   "outputs": [],
   "source": [
    "#saving files to csv\n",
    "client = client.to_csv('client.csv',index = False)\n",
    "campaign = campaign.to_csv('campaign.csv',index = False)\n",
    "economics = economics.to_csv('economics.csv',index = False)"
   ]
  },
  {
   "cell_type": "raw",
   "id": "1cdd16c5-cca9-4c6c-ae65-3908544ab6db",
   "metadata": {},
   "source": [
    "#Exploratory Data Analysis (EDA) Customer Segmentation"
   ]
  },
  {
   "cell_type": "code",
   "execution_count": null,
   "id": "d377a209-646b-4b90-a588-c141cb27feb9",
   "metadata": {},
   "outputs": [],
   "source": [
    "import matplotlib.pyplot as plt\n",
    "import seaborn as sns"
   ]
  },
  {
   "cell_type": "code",
   "execution_count": null,
   "id": "cff8d0d9-0bc6-494f-895b-b9e8315e6fde",
   "metadata": {},
   "outputs": [],
   "source": [
    "client['age_group'] = pd.cut(client['age'], bins=[18,30,35,np.inf], labels=['Young Adult', 'Middle-Aged', 'Senior'])\n",
    "client.head()"
   ]
  },
  {
   "cell_type": "code",
   "execution_count": null,
   "id": "3ae08ba6-1858-410a-a8ae-10d6236c3741",
   "metadata": {},
   "outputs": [],
   "source": [
    "print(client['job'].unique())"
   ]
  },
  {
   "cell_type": "code",
   "execution_count": null,
   "id": "633ad607-61e0-46db-8ee5-c1d7cc870df7",
   "metadata": {},
   "outputs": [],
   "source": [
    "def categorize_job(job):\n",
    "    if job in ['management','admin','entrepreneur','self-employed','technician']:\n",
    "        return 'Professionals'\n",
    "    elif job in ['blue-collar','housemaid','services']:\n",
    "        return 'Blue-Collar'\n",
    "    else:\n",
    "        return 'Other'\n",
    "client['job_category'] = client['job'].apply(categorize_job)\n",
    "client.head()"
   ]
  },
  {
   "cell_type": "code",
   "execution_count": null,
   "id": "b7488366-0f86-42eb-bcfb-f43365541fdb",
   "metadata": {},
   "outputs": [],
   "source": [
    "plt.figure(figsize=(4,2))\n",
    "sns.countplot(x='age_group',hue = 'credit_default' ,data=client)\n",
    "plt.xlabel('Age Group')\n",
    "plt.ylabel('Number of Customers')\n",
    "plt.title('Credit Default by Age Group')\n",
    "plt.show()"
   ]
  },
  {
   "cell_type": "code",
   "execution_count": null,
   "id": "a8db7660-5c6e-45a3-908c-43e6e272fc15",
   "metadata": {},
   "outputs": [],
   "source": [
    "plt.figure(figsize=(4, 3))\n",
    "sns.countplot(x='job_category', hue='mortgage', data=client)\n",
    "plt.xlabel('Job Category')\n",
    "plt.ylabel('Number of Customers')\n",
    "plt.title('Mortgage by Job Category')\n",
    "plt.show()"
   ]
  },
  {
   "cell_type": "code",
   "execution_count": null,
   "id": "00914780-ce90-461e-8cf8-c31c5b1422a6",
   "metadata": {},
   "outputs": [],
   "source": [
    "plt.figure(figsize=(4, 2))\n",
    "sns.countplot(x='marital', hue='credit_default', data=client)\n",
    "plt.xlabel('Marital Status')\n",
    "plt.ylabel('Number of Customers')\n",
    "plt.title('Credit Default by Marital Status')\n",
    "plt.show()"
   ]
  },
  {
   "cell_type": "raw",
   "id": "1063c4e1-b51b-4858-94f4-1e1baadafd86",
   "metadata": {},
   "source": [
    "#Analysis of Economic Factors"
   ]
  },
  {
   "cell_type": "code",
   "execution_count": null,
   "id": "e6b49cd4-a9aa-48fe-981d-13d4e4b0b6ee",
   "metadata": {},
   "outputs": [],
   "source": [
    "merge_df = pd.merge(campaign,economics,on = 'client_id', how = 'left')\n",
    "#print(merge_df.head())"
   ]
  },
  {
   "cell_type": "code",
   "execution_count": null,
   "id": "259ef695-6e57-4e6c-a5f7-90840bf6eba7",
   "metadata": {},
   "outputs": [],
   "source": [
    "#Calculate Correlation between euribor_three_months and campaign_outcome\n",
    "correlation = merge_df['euribor_three_months'].corr(merge_df['campaign_outcome'])\n",
    "print(f\"Correlation between euribor_three_months and campaign_outcome: {correlation}\")\n",
    "\n",
    "# Create scatter plot\n",
    "plt.figure(figsize=(4, 2))\n",
    "sns.scatterplot(x='euribor_three_months', y='campaign_outcome', data=merge_df)\n",
    "plt.xlabel('Euribor Three Months')\n",
    "plt.ylabel('Campaign Outcome')\n",
    "plt.title('Euribor Three Months vs. Campaign Outcome')\n",
    "plt.show()"
   ]
  }
 ],
 "metadata": {
  "kernelspec": {
   "display_name": "Python 3 (ipykernel)",
   "language": "python",
   "name": "python3"
  },
  "language_info": {
   "codemirror_mode": {
    "name": "ipython",
    "version": 3
   },
   "file_extension": ".py",
   "mimetype": "text/x-python",
   "name": "python",
   "nbconvert_exporter": "python",
   "pygments_lexer": "ipython3",
   "version": "3.12.4"
  }
 },
 "nbformat": 4,
 "nbformat_minor": 5
}
